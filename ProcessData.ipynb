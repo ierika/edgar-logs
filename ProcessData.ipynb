{
 "cells": [
  {
   "cell_type": "markdown",
   "metadata": {
    "collapsed": false,
    "pycharm": {
     "name": "#%% md\n"
    }
   },
   "source": [
    "# Sessionize EDGAR Apache Log Files\n",
    "\n",
    "The goal is find out the following datapoints:\n",
    "\n",
    "    - Top 10 download count by session\n",
    "    - Top 10 download size by session\n",
    "\n",
    "About the dataset\n",
    "https://www.sec.gov/dera/data/edgar-log-file-data-set.html\n",
    "\n",
    "About the individual fields\n",
    "http://www.sec.gov/files/EDGAR_variables_FINAL.pdf\n",
    "\n",
    "Dataset URL\n",
    "http://www.sec.gov/dera/data/Public-EDGAR-log-file-data/2017/Qtr1/log20170201.zip\n"
   ]
  },
  {
   "cell_type": "markdown",
   "metadata": {
    "pycharm": {
     "name": "#%% md\n"
    }
   },
   "source": [
    "## Imports"
   ]
  },
  {
   "cell_type": "code",
   "execution_count": 52,
   "metadata": {
    "pycharm": {
     "name": "#%%\n"
    }
   },
   "outputs": [
    {
     "name": "stdout",
     "output_type": "stream",
     "text": [
      "The autoreload extension is already loaded. To reload it, use:\n",
      "  %reload_ext autoreload\n"
     ]
    }
   ],
   "source": [
    "%load_ext autoreload\n",
    "%autoreload 2\n",
    "\n",
    "# Imports\n",
    "import logging\n",
    "import tempfile\n",
    "import zipfile\n",
    "from pathlib import Path\n",
    "\n",
    "import matplotlib.pyplot as plt\n",
    "import pandas as pd\n",
    "import requests\n",
    "from IPython.core.display_functions import display\n",
    "from dask import dataframe as dd\n",
    "from sqlalchemy import create_engine\n",
    "from sqlalchemy.sql import text\n",
    "\n",
    "from sessionizer import sessionize"
   ]
  },
  {
   "cell_type": "markdown",
   "metadata": {
    "collapsed": false,
    "pycharm": {
     "name": "#%% md\n"
    }
   },
   "source": [
    "## Initialize\n",
    "Prepare all essential directories and/or variables"
   ]
  },
  {
   "cell_type": "code",
   "execution_count": 51,
   "metadata": {
    "collapsed": false,
    "pycharm": {
     "name": "#%%\n"
    }
   },
   "outputs": [],
   "source": [
    "# Files and folders\n",
    "base_dir = Path().cwd()\n",
    "data_dir = base_dir / 'data'\n",
    "env_file = base_dir / '.env'\n",
    "input_file = data_dir / 'data.csv'\n",
    "sqlite_db_location = f'sqlite:///{str(data_dir / \"db.sqlite3\")}'\n",
    "engine = create_engine(sqlite_db_location)\n",
    "session_csv_file = data_dir / 'sessions.csv'\n",
    "log_file = base_dir / 'application.log'\n",
    "\n",
    "# Table names\n",
    "log_table_name = 'log'\n",
    "session_table_name = 'session'\n",
    "\n",
    "for d in [data_dir]:\n",
    "    if not d.exists():\n",
    "        d.mkdir(parents=True)\n",
    "\n",
    "# Logging\n",
    "logging.basicConfig(filename=log_file,\n",
    "                    filemode='a',\n",
    "                    format='%(asctime)s %(name)s %(levelname)s %(message)s',\n",
    "                    datefmt='%Y-%m-%d %H:%M:%S',\n",
    "                    level=logging.DEBUG)\n",
    "logging.info('Process start')\n",
    "logger = logging.getLogger('Sessionize EDGAR Apache Logs')"
   ]
  },
  {
   "cell_type": "markdown",
   "metadata": {
    "collapsed": false,
    "pycharm": {
     "name": "#%% md\n"
    }
   },
   "source": [
    "## Download file and unarchive\n",
    "\n",
    "Do not download if file already exist and if `refresh` is not flagged as `True`"
   ]
  },
  {
   "cell_type": "code",
   "execution_count": 37,
   "metadata": {
    "collapsed": false,
    "pycharm": {
     "name": "#%%\n"
    }
   },
   "outputs": [
    {
     "name": "stdout",
     "output_type": "stream",
     "text": [
      "CPU times: user 404 µs, sys: 134 µs, total: 538 µs\n",
      "Wall time: 463 µs\n"
     ]
    }
   ],
   "source": [
    "%%time\n",
    "\n",
    "def get_file(refresh: bool) -> None:\n",
    "    if not input_file.exists() or refresh:\n",
    "        # Download the zip file\n",
    "        response = requests.get('http://www.sec.gov/dera/data/Public-EDGAR-log-file-data/2017/Qtr1/log20170201.zip')\n",
    "        assert response.status_code == 200\n",
    "\n",
    "        # Save zip file to disk, extract, and rename\n",
    "        with tempfile.NamedTemporaryFile(mode='wb') as zip_file:\n",
    "            zip_file.write(response.content)\n",
    "            with zipfile.ZipFile(zip_file.name, 'r') as f:\n",
    "                file_list = f.filelist\n",
    "                # only extract what is necessary while anticipating that the CSV file -\n",
    "                # inside the ZIP file isn't always exactly named after it\n",
    "                file_to_extract = next(f.filename for f in file_list if f.filename.endswith('.csv'))\n",
    "                f.extract(file_to_extract, data_dir)\n",
    "                extracted_file = data_dir / file_to_extract\n",
    "                extracted_file.rename(input_file)\n",
    "                logger.info('File has been downloaded and extracted into: %s', str(input_file))\n",
    "    else:\n",
    "        logger.info('File already exist. Will skip downloading the zip file.')\n",
    "\n",
    "\n",
    "get_file(refresh=False)"
   ]
  },
  {
   "cell_type": "markdown",
   "metadata": {
    "collapsed": false,
    "pycharm": {
     "name": "#%% md\n"
    }
   },
   "source": [
    "## Arrange, filter, and load data\n",
    "\n",
    "To make things run a little bit faster, we are going to use Dask.\n",
    "We are only going to load the necessary columns for our use case.\n",
    "For data warehousing, however, we should capture whatever data we can just in case we need it in the future. And of course, we will not be using Sqlite at all.\n",
    "\n",
    "Loading and filtering 26.7 million rows of data took only roughly a minute.\n",
    "\n",
    "```\n",
    "CPU times: user 57.3 s, sys: 5.16 s, total: 1min 2s\n",
    "Wall time: 49 s\n",
    "```\n",
    "\n",
    "Only the necessary columns will be loaded to the database in interest of performance:\n",
    "- `ip` => Needed to pinpoint session and request origin\n",
    "- `date` => Required for making a timestamp\n",
    "- `time` => Required for making a timestamp\n",
    "- `code` => Successful requests only. Those whose HTTP response code was in the line of 2xx\n",
    "- `idx` => Only page visits that were not to an index page\n",
    "- `size` => Needed to calculate the download size per session"
   ]
  },
  {
   "cell_type": "code",
   "execution_count": 38,
   "metadata": {
    "collapsed": false,
    "pycharm": {
     "name": "#%%\n"
    }
   },
   "outputs": [
    {
     "name": "stdout",
     "output_type": "stream",
     "text": [
      "CPU times: user 58.8 s, sys: 5.97 s, total: 1min 4s\n",
      "Wall time: 50.7 s\n"
     ]
    }
   ],
   "source": [
    "%%time\n",
    "\n",
    "# Reset table\n",
    "with engine.connect() as con:\n",
    "    con.execute(f'drop table if exists {log_table_name};')\n",
    "    con.execute(f\"\"\"\n",
    "        create table {log_table_name}\n",
    "        (\n",
    "            id   INTEGER PRIMARY KEY autoincrement,\n",
    "            ip   TEXT,\n",
    "            date DATETIME,\n",
    "            size INTEGER\n",
    "        );\n",
    "    \"\"\")\n",
    "    logger.info(f'Resetting table for log recording')\n",
    "\n",
    "\n",
    "def load_data():\n",
    "    \"\"\"\n",
    "    Load data into Sqlite DB using Dask.\n",
    "    If blocksize is not specified, Dask will just default to 128MB.\n",
    "    \"\"\"\n",
    "    logger.info('Loading CSV data to the database...')\n",
    "\n",
    "    df = dd.read_csv(\n",
    "        input_file,\n",
    "        usecols=['ip', 'date', 'time', 'idx', 'code', 'size'],\n",
    "        dtype={\n",
    "            'date': str,\n",
    "            'ip': str,\n",
    "            'code': float,\n",
    "            'size': float,\n",
    "            'idx': float,\n",
    "        },\n",
    "    )\n",
    "\n",
    "    df = (\n",
    "        df\n",
    "        # Only successful requests\n",
    "        .query('code >= 200 & code < 300')\n",
    "        # Exclude index page visits\n",
    "        .query('idx == 0')\n",
    "        # Concatenate date and time together to make a timestamp\n",
    "        .assign(date=lambda x: x['date'] + ' ' + x['time'])\n",
    "        .drop(columns=['time', 'code', 'idx'])\n",
    "    )\n",
    "\n",
    "    df.to_sql(log_table_name,\n",
    "              uri=sqlite_db_location,\n",
    "              if_exists='append',\n",
    "              index=False)\n",
    "\n",
    "    logger.info('Finished loading CSV data to the database')\n",
    "\n",
    "\n",
    "load_data()"
   ]
  },
  {
   "cell_type": "markdown",
   "metadata": {
    "collapsed": false,
    "pycharm": {
     "name": "#%% md\n"
    }
   },
   "source": [
    "\n",
    "## Sessionize the log\n",
    "\n",
    "Run the script located at `./sessionizer/sessionizer.py`\n",
    "\n",
    "For the purposes of this coding challenge, we define a session in such a way that all actions of a user that happen within 30 minutes after the first action of a session belong to that session. We identify a user by the IP address."
   ]
  },
  {
   "cell_type": "code",
   "execution_count": null,
   "outputs": [],
   "source": [
    "%%time\n",
    "\n",
    "sessionize(chunksize=1000000)"
   ],
   "metadata": {
    "collapsed": false,
    "pycharm": {
     "name": "#%%\n",
     "is_executing": true
    }
   }
  },
  {
   "cell_type": "markdown",
   "source": [
    "## Rankings\n",
    "1. Top 10 Sessions by Total Number of Downloaded Documents\n",
    "2. Top 10 Sessions by Total Size of Downloaded Documents\n"
   ],
   "metadata": {
    "collapsed": false,
    "pycharm": {
     "name": "#%% md\n"
    }
   }
  },
  {
   "cell_type": "code",
   "execution_count": 98,
   "outputs": [],
   "source": [
    "def get_top_ranking(ranking_type: str) -> pd.DataFrame:\n",
    "    assert ranking_type.lower() in ['download_count', 'download_size']\n",
    "\n",
    "    with engine.connect() as con:\n",
    "        query = f\"\"\"\n",
    "        SELECT ip\n",
    "            , session_start\n",
    "            , session_end\n",
    "            , {ranking_type}\n",
    "        FROM session\n",
    "        ORDER BY {ranking_type} DESC\n",
    "        LIMIT 10\n",
    "        \"\"\"\n",
    "        df = pd.read_sql_query(query, con=con, index_col='ip')\n",
    "\n",
    "        if ranking_type == 'download_size':\n",
    "            # Add gigabyte conversion - N Bytes / 1 billion = N Gigabytes\n",
    "            df['Download Size (GB)'] = df[ranking_type].div(1000000000).round(2)\n",
    "\n",
    "        return df"
   ],
   "metadata": {
    "collapsed": false,
    "pycharm": {
     "name": "#%%\n"
    }
   }
  },
  {
   "cell_type": "markdown",
   "source": [
    "### Top 10 Sessions by Total Number of Downloaded Documents"
   ],
   "metadata": {
    "collapsed": false,
    "pycharm": {
     "name": "#%% md\n"
    }
   }
  },
  {
   "cell_type": "code",
   "execution_count": 116,
   "outputs": [
    {
     "data": {
      "text/plain": "                ip        session_start          session_end  download_count\n0  128.175.241.beg  2017-02-01 00:00:00  2017-02-01 00:30:00           11203\n1   161.253.85.gch  2017-02-01 02:00:04  2017-02-01 02:30:04           10832\n2   161.253.85.gch  2017-02-01 02:30:05  2017-02-01 03:00:05           10396\n3   161.253.85.gch  2017-02-01 03:00:06  2017-02-01 03:30:06           10135\n4    128.91.90.aig  2017-02-01 00:33:22  2017-02-01 01:03:22            9791\n5  205.132.129.hbc  2017-02-01 03:02:04  2017-02-01 03:32:04            9780\n6   161.253.85.gch  2017-02-01 00:00:00  2017-02-01 00:30:00            9504\n7    128.91.90.aig  2017-02-01 00:03:21  2017-02-01 00:33:21            9465\n8    131.243.3.aed  2017-02-01 00:00:00  2017-02-01 00:30:00            8914\n9   161.253.85.gch  2017-02-01 01:30:03  2017-02-01 02:00:03            8780",
      "text/html": "<div>\n<style scoped>\n    .dataframe tbody tr th:only-of-type {\n        vertical-align: middle;\n    }\n\n    .dataframe tbody tr th {\n        vertical-align: top;\n    }\n\n    .dataframe thead th {\n        text-align: right;\n    }\n</style>\n<table border=\"1\" class=\"dataframe\">\n  <thead>\n    <tr style=\"text-align: right;\">\n      <th></th>\n      <th>ip</th>\n      <th>session_start</th>\n      <th>session_end</th>\n      <th>download_count</th>\n    </tr>\n  </thead>\n  <tbody>\n    <tr>\n      <th>0</th>\n      <td>128.175.241.beg</td>\n      <td>2017-02-01 00:00:00</td>\n      <td>2017-02-01 00:30:00</td>\n      <td>11203</td>\n    </tr>\n    <tr>\n      <th>1</th>\n      <td>161.253.85.gch</td>\n      <td>2017-02-01 02:00:04</td>\n      <td>2017-02-01 02:30:04</td>\n      <td>10832</td>\n    </tr>\n    <tr>\n      <th>2</th>\n      <td>161.253.85.gch</td>\n      <td>2017-02-01 02:30:05</td>\n      <td>2017-02-01 03:00:05</td>\n      <td>10396</td>\n    </tr>\n    <tr>\n      <th>3</th>\n      <td>161.253.85.gch</td>\n      <td>2017-02-01 03:00:06</td>\n      <td>2017-02-01 03:30:06</td>\n      <td>10135</td>\n    </tr>\n    <tr>\n      <th>4</th>\n      <td>128.91.90.aig</td>\n      <td>2017-02-01 00:33:22</td>\n      <td>2017-02-01 01:03:22</td>\n      <td>9791</td>\n    </tr>\n    <tr>\n      <th>5</th>\n      <td>205.132.129.hbc</td>\n      <td>2017-02-01 03:02:04</td>\n      <td>2017-02-01 03:32:04</td>\n      <td>9780</td>\n    </tr>\n    <tr>\n      <th>6</th>\n      <td>161.253.85.gch</td>\n      <td>2017-02-01 00:00:00</td>\n      <td>2017-02-01 00:30:00</td>\n      <td>9504</td>\n    </tr>\n    <tr>\n      <th>7</th>\n      <td>128.91.90.aig</td>\n      <td>2017-02-01 00:03:21</td>\n      <td>2017-02-01 00:33:21</td>\n      <td>9465</td>\n    </tr>\n    <tr>\n      <th>8</th>\n      <td>131.243.3.aed</td>\n      <td>2017-02-01 00:00:00</td>\n      <td>2017-02-01 00:30:00</td>\n      <td>8914</td>\n    </tr>\n    <tr>\n      <th>9</th>\n      <td>161.253.85.gch</td>\n      <td>2017-02-01 01:30:03</td>\n      <td>2017-02-01 02:00:03</td>\n      <td>8780</td>\n    </tr>\n  </tbody>\n</table>\n</div>"
     },
     "metadata": {},
     "output_type": "display_data"
    },
    {
     "data": {
      "text/plain": "<Figure size 432x288 with 1 Axes>",
      "image/png": "[encoded data removed]"
     },
     "metadata": {
      "needs_background": "light"
     },
     "output_type": "display_data"
    }
   ],
   "source": [
    "top_count = get_top_ranking(ranking_type='download_count')\n",
    "(\n",
    "    top_count['download_count']\n",
    "    .sort_values()\n",
    "    .plot(kind='barh', title='Top 10 Sessions by Total Number of Download Documents')\n",
    ")\n",
    "\n",
    "display(top_count.reset_index())\n",
    "plt.show()"
   ],
   "metadata": {
    "collapsed": false,
    "pycharm": {
     "name": "#%%\n"
    }
   }
  },
  {
   "cell_type": "markdown",
   "source": [
    "### Top 10 Sessions by Total Size of Download Documents"
   ],
   "metadata": {
    "collapsed": false,
    "pycharm": {
     "name": "#%% md\n"
    }
   }
  },
  {
   "cell_type": "code",
   "execution_count": 117,
   "outputs": [
    {
     "data": {
      "text/plain": "<Figure size 432x288 with 1 Axes>",
      "image/png": "[encoded data removed]"
     },
     "metadata": {
      "needs_background": "light"
     },
     "output_type": "display_data"
    },
    {
     "data": {
      "text/plain": "                ip        session_start          session_end  \\\n0  205.156.136.cef  2017-02-01 00:51:35  2017-02-01 01:21:35   \n1  205.156.136.cef  2017-02-01 01:21:37  2017-02-01 01:51:37   \n2  205.156.136.cef  2017-02-01 01:51:41  2017-02-01 02:21:41   \n3   205.156.84.cef  2017-02-01 01:29:18  2017-02-01 01:59:18   \n4   205.156.84.cef  2017-02-01 00:29:15  2017-02-01 00:59:15   \n5   205.156.84.cef  2017-02-01 00:59:16  2017-02-01 01:29:16   \n6   205.156.84.cef  2017-02-01 02:29:20  2017-02-01 02:59:20   \n7   205.156.84.cef  2017-02-01 01:59:19  2017-02-01 02:29:19   \n8   54.160.235.hji  2017-02-01 00:00:51  2017-02-01 00:30:51   \n9   54.160.235.hji  2017-02-01 02:01:36  2017-02-01 02:31:36   \n\n   Download Size (GB)  \n0                8.62  \n1                7.78  \n2                6.53  \n3                6.01  \n4                5.57  \n5                5.54  \n6                5.47  \n7                5.28  \n8                4.99  \n9                4.96  ",
      "text/html": "<div>\n<style scoped>\n    .dataframe tbody tr th:only-of-type {\n        vertical-align: middle;\n    }\n\n    .dataframe tbody tr th {\n        vertical-align: top;\n    }\n\n    .dataframe thead th {\n        text-align: right;\n    }\n</style>\n<table border=\"1\" class=\"dataframe\">\n  <thead>\n    <tr style=\"text-align: right;\">\n      <th></th>\n      <th>ip</th>\n      <th>session_start</th>\n      <th>session_end</th>\n      <th>Download Size (GB)</th>\n    </tr>\n  </thead>\n  <tbody>\n    <tr>\n      <th>0</th>\n      <td>205.156.136.cef</td>\n      <td>2017-02-01 00:51:35</td>\n      <td>2017-02-01 01:21:35</td>\n      <td>8.62</td>\n    </tr>\n    <tr>\n      <th>1</th>\n      <td>205.156.136.cef</td>\n      <td>2017-02-01 01:21:37</td>\n      <td>2017-02-01 01:51:37</td>\n      <td>7.78</td>\n    </tr>\n    <tr>\n      <th>2</th>\n      <td>205.156.136.cef</td>\n      <td>2017-02-01 01:51:41</td>\n      <td>2017-02-01 02:21:41</td>\n      <td>6.53</td>\n    </tr>\n    <tr>\n      <th>3</th>\n      <td>205.156.84.cef</td>\n      <td>2017-02-01 01:29:18</td>\n      <td>2017-02-01 01:59:18</td>\n      <td>6.01</td>\n    </tr>\n    <tr>\n      <th>4</th>\n      <td>205.156.84.cef</td>\n      <td>2017-02-01 00:29:15</td>\n      <td>2017-02-01 00:59:15</td>\n      <td>5.57</td>\n    </tr>\n    <tr>\n      <th>5</th>\n      <td>205.156.84.cef</td>\n      <td>2017-02-01 00:59:16</td>\n      <td>2017-02-01 01:29:16</td>\n      <td>5.54</td>\n    </tr>\n    <tr>\n      <th>6</th>\n      <td>205.156.84.cef</td>\n      <td>2017-02-01 02:29:20</td>\n      <td>2017-02-01 02:59:20</td>\n      <td>5.47</td>\n    </tr>\n    <tr>\n      <th>7</th>\n      <td>205.156.84.cef</td>\n      <td>2017-02-01 01:59:19</td>\n      <td>2017-02-01 02:29:19</td>\n      <td>5.28</td>\n    </tr>\n    <tr>\n      <th>8</th>\n      <td>54.160.235.hji</td>\n      <td>2017-02-01 00:00:51</td>\n      <td>2017-02-01 00:30:51</td>\n      <td>4.99</td>\n    </tr>\n    <tr>\n      <th>9</th>\n      <td>54.160.235.hji</td>\n      <td>2017-02-01 02:01:36</td>\n      <td>2017-02-01 02:31:36</td>\n      <td>4.96</td>\n    </tr>\n  </tbody>\n</table>\n</div>"
     },
     "metadata": {},
     "output_type": "display_data"
    }
   ],
   "source": [
    "# Top 10 by Size\n",
    "top_count = get_top_ranking(ranking_type='download_size')\n",
    "(\n",
    "    top_count['download_size']\n",
    "    .sort_values()\n",
    "    .plot(kind='barh', title='Top 10 Sessions by Total Size of Download Documents')\n",
    ")\n",
    "\n",
    "plt.show()\n",
    "display(top_count.drop(columns=['download_size']).reset_index())"
   ],
   "metadata": {
    "collapsed": false,
    "pycharm": {
     "name": "#%%\n"
    }
   }
  },
  {
   "cell_type": "markdown",
   "source": [
    "### Top 10 Users by Download Count\n",
    "\n",
    "Visualize the Top 10 users with the most downloads.\n",
    "On top of that, visualize the total size of all their downloads."
   ],
   "metadata": {
    "collapsed": false,
    "pycharm": {
     "name": "#%% md\n"
    }
   }
  },
  {
   "cell_type": "code",
   "execution_count": 111,
   "outputs": [
    {
     "data": {
      "text/plain": "                ip  download_count  download_size             min_date  \\\n0   161.253.85.gch          386255     1896756799  2017-02-01 00:00:00   \n1    13.93.154.hjh          337044      672747570  2017-02-01 03:50:41   \n2  217.174.255.dgd          287038    36302942260  2017-02-01 00:01:07   \n3   68.180.231.abf          222926     3375028416  2017-02-01 00:00:00   \n4    54.84.100.jga          203290   104150131651  2017-02-01 03:56:30   \n5   128.138.64.edf          200910    91248906121  2017-02-01 00:00:00   \n6    108.91.91.hbc          179697     6346202892  2017-02-01 00:00:17   \n7    131.243.3.aed          176221    13854023724  2017-02-01 00:00:00   \n8    52.119.57.ajg          147143     1448941696  2017-02-01 00:00:01   \n9   108.39.205.jga          140191    42706648991  2017-02-01 00:39:40   \n\n              max_date  \n0  2017-02-01 23:59:59  \n1  2017-02-01 08:28:15  \n2  2017-02-01 23:51:57  \n3  2017-02-01 23:59:59  \n4  2017-02-01 23:59:59  \n5  2017-02-01 23:59:59  \n6  2017-02-01 23:59:49  \n7  2017-02-01 18:02:19  \n8  2017-02-01 21:49:53  \n9  2017-02-01 17:11:07  ",
      "text/html": "<div>\n<style scoped>\n    .dataframe tbody tr th:only-of-type {\n        vertical-align: middle;\n    }\n\n    .dataframe tbody tr th {\n        vertical-align: top;\n    }\n\n    .dataframe thead th {\n        text-align: right;\n    }\n</style>\n<table border=\"1\" class=\"dataframe\">\n  <thead>\n    <tr style=\"text-align: right;\">\n      <th></th>\n      <th>ip</th>\n      <th>download_count</th>\n      <th>download_size</th>\n      <th>min_date</th>\n      <th>max_date</th>\n    </tr>\n  </thead>\n  <tbody>\n    <tr>\n      <th>0</th>\n      <td>161.253.85.gch</td>\n      <td>386255</td>\n      <td>1896756799</td>\n      <td>2017-02-01 00:00:00</td>\n      <td>2017-02-01 23:59:59</td>\n    </tr>\n    <tr>\n      <th>1</th>\n      <td>13.93.154.hjh</td>\n      <td>337044</td>\n      <td>672747570</td>\n      <td>2017-02-01 03:50:41</td>\n      <td>2017-02-01 08:28:15</td>\n    </tr>\n    <tr>\n      <th>2</th>\n      <td>217.174.255.dgd</td>\n      <td>287038</td>\n      <td>36302942260</td>\n      <td>2017-02-01 00:01:07</td>\n      <td>2017-02-01 23:51:57</td>\n    </tr>\n    <tr>\n      <th>3</th>\n      <td>68.180.231.abf</td>\n      <td>222926</td>\n      <td>3375028416</td>\n      <td>2017-02-01 00:00:00</td>\n      <td>2017-02-01 23:59:59</td>\n    </tr>\n    <tr>\n      <th>4</th>\n      <td>54.84.100.jga</td>\n      <td>203290</td>\n      <td>104150131651</td>\n      <td>2017-02-01 03:56:30</td>\n      <td>2017-02-01 23:59:59</td>\n    </tr>\n    <tr>\n      <th>5</th>\n      <td>128.138.64.edf</td>\n      <td>200910</td>\n      <td>91248906121</td>\n      <td>2017-02-01 00:00:00</td>\n      <td>2017-02-01 23:59:59</td>\n    </tr>\n    <tr>\n      <th>6</th>\n      <td>108.91.91.hbc</td>\n      <td>179697</td>\n      <td>6346202892</td>\n      <td>2017-02-01 00:00:17</td>\n      <td>2017-02-01 23:59:49</td>\n    </tr>\n    <tr>\n      <th>7</th>\n      <td>131.243.3.aed</td>\n      <td>176221</td>\n      <td>13854023724</td>\n      <td>2017-02-01 00:00:00</td>\n      <td>2017-02-01 18:02:19</td>\n    </tr>\n    <tr>\n      <th>8</th>\n      <td>52.119.57.ajg</td>\n      <td>147143</td>\n      <td>1448941696</td>\n      <td>2017-02-01 00:00:01</td>\n      <td>2017-02-01 21:49:53</td>\n    </tr>\n    <tr>\n      <th>9</th>\n      <td>108.39.205.jga</td>\n      <td>140191</td>\n      <td>42706648991</td>\n      <td>2017-02-01 00:39:40</td>\n      <td>2017-02-01 17:11:07</td>\n    </tr>\n  </tbody>\n</table>\n</div>"
     },
     "metadata": {},
     "output_type": "display_data"
    },
    {
     "data": {
      "text/plain": "<Figure size 432x288 with 1 Axes>",
      "image/png": "[encoded data removed]"
     },
     "metadata": {
      "needs_background": "light"
     },
     "output_type": "display_data"
    },
    {
     "name": "stdout",
     "output_type": "stream",
     "text": [
      "CPU times: user 9.03 s, sys: 803 ms, total: 9.83 s\n",
      "Wall time: 9.79 s\n"
     ]
    }
   ],
   "source": [
    "%%time\n",
    "\n",
    "def get_unique_users():\n",
    "    with engine.connect() as con:\n",
    "        df = pd.read_sql_query(f\"\"\"\n",
    "            SELECT\n",
    "                ip\n",
    "                , COUNT(*) AS download_count\n",
    "                , SUM(size) AS download_size\n",
    "                , MIN([date]) AS min_date\n",
    "                , MAX([date]) AS max_date\n",
    "            FROM {log_table_name}\n",
    "            GROUP BY ip\n",
    "            ORDER BY download_count DESC\n",
    "            LIMIT 10\n",
    "        \"\"\", con=con)\n",
    "\n",
    "        return df\n",
    "\n",
    "unique_users = get_unique_users()\n",
    "display(unique_users.head(10))\n",
    "logger.info('Unique user count: %s', len(unique_users['ip']))\n",
    "\n",
    "(\n",
    "    unique_users.iloc[:10, :]\n",
    "    .sort_values(['download_count'])\n",
    "    .set_index('ip')\n",
    "    .assign(\n",
    "        # Normalize download size and count\n",
    "        download_count=lambda x: x['download_count'] / x['download_count'].max(),\n",
    "        download_size=lambda x: x['download_size'] / x['download_size'].max(),\n",
    "    )\n",
    "    .plot(kind='barh', title='TOP 10 IP addresses with the most downloads (entire log)')\n",
    ")\n",
    "\n",
    "plt.show()"
   ],
   "metadata": {
    "collapsed": false,
    "pycharm": {
     "name": "#%%\n"
    }
   }
  }
 ],
 "metadata": {
  "kernelspec": {
   "display_name": "Python 3.9.12 ('edgar-logs-sessionizer-pQpjlZkV')",
   "language": "python",
   "name": "python3"
  },
  "language_info": {
   "codemirror_mode": {
    "name": "ipython",
    "version": 3
   },
   "file_extension": ".py",
   "mimetype": "text/x-python",
   "name": "python",
   "nbconvert_exporter": "python",
   "pygments_lexer": "ipython3",
   "version": "3.9.12"
  },
  "vscode": {
   "interpreter": {
    "hash": "3f1718e52c8c02594a8dd21c1eb12a00279d8314b9fea932fc21038b134d9aa0"
   }
  }
 },
 "nbformat": 4,
 "nbformat_minor": 0
}